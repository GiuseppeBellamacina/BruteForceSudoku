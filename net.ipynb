{
 "cells": [
  {
   "cell_type": "code",
   "execution_count": 1,
   "metadata": {},
   "outputs": [
    {
     "name": "stdout",
     "output_type": "stream",
     "text": [
      "pygame 2.5.2 (SDL 2.28.3, Python 3.11.7)\n",
      "Hello from the pygame community. https://www.pygame.org/contribute.html\n"
     ]
    }
   ],
   "source": [
    "import torch\n",
    "import torch.nn as nn\n",
    "import torch.optim as optim\n",
    "from joblib import Parallel, delayed\n",
    "from torch.utils.data import Dataset, DataLoader\n",
    "from torch.cuda.amp import autocast, GradScaler\n",
    "import numpy as np\n",
    "from sudoku import Sudoku\n",
    "import tqdm\n",
    "import pygame\n",
    "import time\n",
    "from random import randint"
   ]
  },
  {
   "cell_type": "code",
   "execution_count": 2,
   "metadata": {},
   "outputs": [],
   "source": [
    "class SudokuDataset(Dataset):\n",
    "    def __init__(self, data):\n",
    "        self.puzzles = [torch.tensor(puzzle, dtype=torch.float).unsqueeze(0) for puzzle, _ in data]\n",
    "        self.solutions = [torch.tensor(solution, dtype=torch.long) for _, solution in data]\n",
    "\n",
    "    def __len__(self):\n",
    "        return len(self.puzzles)\n",
    "\n",
    "    def __getitem__(self, idx):\n",
    "        return self.puzzles[idx], self.solutions[idx]"
   ]
  },
  {
   "cell_type": "code",
   "execution_count": 3,
   "metadata": {},
   "outputs": [],
   "source": [
    "def swap_rows(grid1, grid2):\n",
    "    \"\"\"Swap two random rows within the same block for both puzzle and solution.\"\"\"\n",
    "    block = np.random.randint(0, 3)\n",
    "    row1, row2 = np.random.choice(range(block * 3, (block + 1) * 3), size=2, replace=False)\n",
    "    grid1[[row1, row2]] = grid1[[row2, row1]]\n",
    "    grid2[[row1, row2]] = grid2[[row2, row1]]\n",
    "    return grid1, grid2\n",
    "\n",
    "def swap_columns(grid1, grid2):\n",
    "    \"\"\"Swap two random columns within the same block for both puzzle and solution.\"\"\"\n",
    "    block = np.random.randint(0, 3)\n",
    "    col1, col2 = np.random.choice(range(block * 3, (block + 1) * 3), size=2, replace=False)\n",
    "    grid1[:, [col1, col2]] = grid1[:, [col2, col1]]\n",
    "    grid2[:, [col1, col2]] = grid2[:, [col2, col1]]\n",
    "    return grid1, grid2\n",
    "\n",
    "def rotate_grid(grid1, grid2):\n",
    "    \"\"\"Rotate both puzzle and solution by 90, 180, or 270 degrees.\"\"\"\n",
    "    k = np.random.choice([1, 2, 3])\n",
    "    return np.rot90(grid1, k), np.rot90(grid2, k)\n",
    "\n",
    "def augment_grid(puzzle, solution):\n",
    "    \"\"\"Apply random transformations to both puzzle and solution.\"\"\"\n",
    "    transformations = [swap_rows, swap_columns, rotate_grid]\n",
    "    np.random.shuffle(transformations)\n",
    "    for transform in transformations:\n",
    "        puzzle, solution = transform(puzzle, solution)\n",
    "    return puzzle, solution"
   ]
  },
  {
   "cell_type": "code",
   "execution_count": 4,
   "metadata": {},
   "outputs": [],
   "source": [
    "def generate_single_sudoku():\n",
    "    grid = Sudoku.from_dim(3)\n",
    "    solution = np.array(grid.grid, dtype=np.int8)\n",
    "    grid.remove_numbers(randint(10, 55))\n",
    "    puzzle = np.array(grid.grid, dtype=np.int8)\n",
    "    return puzzle, solution\n",
    "\n",
    "def generate_dataset(num_samples, n_jobs=4):\n",
    "    data = Parallel(n_jobs=n_jobs)(\n",
    "        delayed(generate_single_sudoku)() for _ in tqdm.tqdm(range(num_samples))\n",
    "    )\n",
    "    puzzles, solutions = zip(*data)\n",
    "    \n",
    "    # Applichiamo data augmentation in modo consistente a puzzle e soluzione\n",
    "    augmented_data = []\n",
    "    for puzzle, solution in tqdm.tqdm(zip(puzzles, solutions), total=len(puzzles)):\n",
    "        puzzle_aug, solution_aug = augment_grid(puzzle, solution)\n",
    "        augmented_data.append((puzzle_aug, solution_aug))\n",
    "    \n",
    "    all_puzzles = np.concatenate((puzzles, [p[0] for p in augmented_data]))\n",
    "    all_solutions = np.concatenate((solutions, [p[1] for p in augmented_data]))\n",
    "    \n",
    "    return list(zip(all_puzzles, all_solutions))"
   ]
  },
  {
   "cell_type": "code",
   "execution_count": 5,
   "metadata": {},
   "outputs": [],
   "source": [
    "class ResidualBlock(nn.Module):\n",
    "    def __init__(self, in_channels, out_channels):\n",
    "        super(ResidualBlock, self).__init__()\n",
    "        self.conv1 = nn.Conv2d(in_channels, out_channels, kernel_size=3, padding=1)\n",
    "        self.batch_norm1 = nn.BatchNorm2d(out_channels)\n",
    "        self.conv2 = nn.Conv2d(out_channels, out_channels, kernel_size=3, padding=1)\n",
    "        self.batch_norm2 = nn.BatchNorm2d(out_channels)\n",
    "        self.shortcut = nn.Sequential()\n",
    "        if in_channels != out_channels:\n",
    "            self.shortcut = nn.Sequential(\n",
    "                nn.Conv2d(in_channels, out_channels, kernel_size=1),\n",
    "                nn.BatchNorm2d(out_channels)\n",
    "            )\n",
    "\n",
    "    def forward(self, x):\n",
    "        out = torch.relu(self.batch_norm1(self.conv1(x)))\n",
    "        out = self.batch_norm2(self.conv2(out))\n",
    "        out += self.shortcut(x)\n",
    "        out = torch.relu(out)\n",
    "        return out\n",
    "\n",
    "class SudokuNet(nn.Module):\n",
    "    def __init__(self):\n",
    "        super(SudokuNet, self).__init__()\n",
    "\n",
    "        # Layer Convoluzionali con Residual Blocks\n",
    "        self.layer1 = ResidualBlock(1, 64)\n",
    "        self.layer2 = ResidualBlock(64, 128)\n",
    "        self.layer3 = ResidualBlock(128, 256)\n",
    "        self.layer4 = ResidualBlock(256, 256)\n",
    "\n",
    "        # Modulo LSTM\n",
    "        self.lstm = nn.LSTM(input_size=256 * 9, hidden_size=512, num_layers=2, batch_first=True, dropout=0.3)\n",
    "\n",
    "        # Fully connected layer finale\n",
    "        self.fc1 = nn.Linear(512, 9 * 9 * 9)\n",
    "        self.dropout = nn.Dropout(p=0.3)\n",
    "\n",
    "    def forward(self, x):\n",
    "        # Passaggio attraverso i blocchi residuali\n",
    "        x = self.layer1(x)\n",
    "        x = self.layer2(x)\n",
    "        x = self.layer3(x)\n",
    "        x = self.layer4(x)\n",
    "\n",
    "        # Reshape per adattare al LSTM (batch_size, seq_len, input_size)\n",
    "        x = x.view(-1, 9, 256 * 9)  # Trattiamo ogni riga come una sequenza\n",
    "\n",
    "        # Passaggio attraverso l'LSTM\n",
    "        x, _ = self.lstm(x)  # output LSTM\n",
    "\n",
    "        # Estrazione dell'ultima hidden state\n",
    "        x = x[:, -1, :]  # Usiamo l'ultima uscita LSTM (hidden state)\n",
    "\n",
    "        # Passaggio attraverso il fully connected layer\n",
    "        x = self.dropout(x)\n",
    "        x = self.fc1(x)\n",
    "\n",
    "        # Output reshape in (batch_size, 9, 9, 9) per la previsione del Sudoku\n",
    "        return x.view(-1, 9, 9, 9)"
   ]
  },
  {
   "cell_type": "code",
   "execution_count": 6,
   "metadata": {},
   "outputs": [
    {
     "name": "stderr",
     "output_type": "stream",
     "text": [
      "100%|██████████| 100000/100000 [00:25<00:00, 3906.49it/s]\n",
      "100%|██████████| 100000/100000 [00:11<00:00, 8520.44it/s]\n",
      "100%|██████████| 10/10 [00:00<00:00, 4984.32it/s]\n",
      "100%|██████████| 10/10 [00:00<00:00, 3345.01it/s]\n"
     ]
    }
   ],
   "source": [
    "data = generate_dataset(num_samples=100000, n_jobs=8)\n",
    "test_data = generate_dataset(num_samples=10, n_jobs=8)"
   ]
  },
  {
   "cell_type": "code",
   "execution_count": 7,
   "metadata": {},
   "outputs": [
    {
     "name": "stdout",
     "output_type": "stream",
     "text": [
      "200000 20\n"
     ]
    }
   ],
   "source": [
    "print(len(data), len(test_data))"
   ]
  },
  {
   "cell_type": "code",
   "execution_count": 8,
   "metadata": {},
   "outputs": [],
   "source": [
    "dataset = SudokuDataset(data)\n",
    "dataloader = DataLoader(dataset, batch_size=256, shuffle=True, pin_memory=True)"
   ]
  },
  {
   "cell_type": "code",
   "execution_count": 9,
   "metadata": {},
   "outputs": [],
   "source": [
    "test_dataset = SudokuDataset(test_data)\n",
    "test_dataloader = DataLoader(test_dataset, batch_size=256, shuffle=False, pin_memory=True)"
   ]
  },
  {
   "cell_type": "code",
   "execution_count": 10,
   "metadata": {},
   "outputs": [],
   "source": [
    "model = SudokuNet().to('cuda')\n",
    "criterion = nn.CrossEntropyLoss(ignore_index=-1).to('cuda')\n",
    "optimizer = optim.Adam(model.parameters(), lr=0.001, weight_decay=1e-5)\n",
    "scheduler = optim.lr_scheduler.StepLR(optimizer, step_size=10, gamma=0.5)\n",
    "scaler = GradScaler()"
   ]
  },
  {
   "cell_type": "code",
   "execution_count": 11,
   "metadata": {},
   "outputs": [],
   "source": [
    "def validate(model, dataloader):\n",
    "    model.eval()\n",
    "    total_correct = 0\n",
    "    total_numbers = 0\n",
    "    \n",
    "    with torch.no_grad():\n",
    "        for puzzles, solutions in dataloader:\n",
    "            puzzles, solutions = puzzles.to('cuda'), solutions.to('cuda')\n",
    "            output = model(puzzles)\n",
    "            output = output.view(-1, 9) \n",
    "            _, predicted = torch.max(output, 1)\n",
    "            \n",
    "            predicted = predicted.view(puzzles.size(0), 9, 9) + 1\n",
    "            solutions = solutions.view(puzzles.size(0), 9, 9)\n",
    "            \n",
    "            correct = (predicted == solutions).sum().item()\n",
    "            total_correct += correct\n",
    "            total_numbers += puzzles.size(0) * 81\n",
    "    \n",
    "    accuracy = total_correct / total_numbers\n",
    "    return accuracy"
   ]
  },
  {
   "cell_type": "code",
   "execution_count": 12,
   "metadata": {},
   "outputs": [],
   "source": [
    "def earlyStopping(val_losses, patience, delta, num_epochs):\n",
    "    count = patience\n",
    "    if len(val_losses) < patience: # se non abbiamo ancora abbastanza epoche per fare confronti\n",
    "        return False\n",
    "    elif len(val_losses) == num_epochs - 1: # se siamo all'ultima epoca\n",
    "        return False\n",
    "    else:\n",
    "        last_losses_sum = sum(val_losses[-patience:])\n",
    "        last_losses_avg = last_losses_sum / patience\n",
    "        for i in range(1, patience+1):\n",
    "            if val_losses[-i] < last_losses_avg + delta/2 and val_losses[-i] > last_losses_avg - delta/2:\n",
    "                count -= 1\n",
    "    return count <= 0"
   ]
  },
  {
   "cell_type": "code",
   "execution_count": 13,
   "metadata": {},
   "outputs": [
    {
     "name": "stderr",
     "output_type": "stream",
     "text": [
      "Training:   3%|▎         | 1/30 [01:13<35:34, 73.61s/it]"
     ]
    },
    {
     "name": "stdout",
     "output_type": "stream",
     "text": [
      "Epoch 1/30, Loss: 1.820, Validation Accuracy: 0.385\n"
     ]
    },
    {
     "name": "stderr",
     "output_type": "stream",
     "text": [
      "Training:   7%|▋         | 2/30 [02:26<34:16, 73.46s/it]"
     ]
    },
    {
     "name": "stdout",
     "output_type": "stream",
     "text": [
      "Epoch 2/30, Loss: 1.569, Validation Accuracy: 0.501\n"
     ]
    },
    {
     "name": "stderr",
     "output_type": "stream",
     "text": [
      "Training:  10%|█         | 3/30 [03:40<33:05, 73.52s/it]"
     ]
    },
    {
     "name": "stdout",
     "output_type": "stream",
     "text": [
      "Epoch 3/30, Loss: 1.357, Validation Accuracy: 0.671\n"
     ]
    },
    {
     "name": "stderr",
     "output_type": "stream",
     "text": [
      "Training:  13%|█▎        | 4/30 [04:54<31:52, 73.57s/it]"
     ]
    },
    {
     "name": "stdout",
     "output_type": "stream",
     "text": [
      "Epoch 4/30, Loss: 1.199, Validation Accuracy: 0.739\n"
     ]
    },
    {
     "name": "stderr",
     "output_type": "stream",
     "text": [
      "Training:  17%|█▋        | 5/30 [06:07<30:40, 73.62s/it]"
     ]
    },
    {
     "name": "stdout",
     "output_type": "stream",
     "text": [
      "Epoch 5/30, Loss: 1.108, Validation Accuracy: 0.773\n"
     ]
    },
    {
     "name": "stderr",
     "output_type": "stream",
     "text": [
      "Training:  20%|██        | 6/30 [07:21<29:28, 73.69s/it]"
     ]
    },
    {
     "name": "stdout",
     "output_type": "stream",
     "text": [
      "Epoch 6/30, Loss: 0.986, Validation Accuracy: 0.810\n"
     ]
    },
    {
     "name": "stderr",
     "output_type": "stream",
     "text": [
      "Training:  23%|██▎       | 7/30 [08:35<28:16, 73.77s/it]"
     ]
    },
    {
     "name": "stdout",
     "output_type": "stream",
     "text": [
      "Epoch 7/30, Loss: 0.863, Validation Accuracy: 0.846\n"
     ]
    },
    {
     "name": "stderr",
     "output_type": "stream",
     "text": [
      "Training:  27%|██▋       | 8/30 [09:49<27:04, 73.85s/it]"
     ]
    },
    {
     "name": "stdout",
     "output_type": "stream",
     "text": [
      "Epoch 8/30, Loss: 0.767, Validation Accuracy: 0.863\n"
     ]
    },
    {
     "name": "stderr",
     "output_type": "stream",
     "text": [
      "Training:  30%|███       | 9/30 [11:03<25:50, 73.86s/it]"
     ]
    },
    {
     "name": "stdout",
     "output_type": "stream",
     "text": [
      "Epoch 9/30, Loss: 0.696, Validation Accuracy: 0.879\n"
     ]
    },
    {
     "name": "stderr",
     "output_type": "stream",
     "text": [
      "Training:  33%|███▎      | 10/30 [12:17<24:37, 73.86s/it]"
     ]
    },
    {
     "name": "stdout",
     "output_type": "stream",
     "text": [
      "Epoch 10/30, Loss: 0.641, Validation Accuracy: 0.884\n"
     ]
    },
    {
     "name": "stderr",
     "output_type": "stream",
     "text": [
      "Training:  37%|███▋      | 11/30 [13:31<23:23, 73.87s/it]"
     ]
    },
    {
     "name": "stdout",
     "output_type": "stream",
     "text": [
      "Epoch 11/30, Loss: 0.569, Validation Accuracy: 0.904\n"
     ]
    },
    {
     "name": "stderr",
     "output_type": "stream",
     "text": [
      "Training:  40%|████      | 12/30 [14:45<22:09, 73.86s/it]"
     ]
    },
    {
     "name": "stdout",
     "output_type": "stream",
     "text": [
      "Epoch 12/30, Loss: 0.539, Validation Accuracy: 0.910\n"
     ]
    },
    {
     "name": "stderr",
     "output_type": "stream",
     "text": [
      "Training:  43%|████▎     | 13/30 [15:58<20:54, 73.82s/it]"
     ]
    },
    {
     "name": "stdout",
     "output_type": "stream",
     "text": [
      "Epoch 13/30, Loss: 0.517, Validation Accuracy: 0.915\n"
     ]
    },
    {
     "name": "stderr",
     "output_type": "stream",
     "text": [
      "Training:  47%|████▋     | 14/30 [17:12<19:40, 73.76s/it]"
     ]
    },
    {
     "name": "stdout",
     "output_type": "stream",
     "text": [
      "Epoch 14/30, Loss: 0.498, Validation Accuracy: 0.920\n"
     ]
    },
    {
     "name": "stderr",
     "output_type": "stream",
     "text": [
      "Training:  50%|█████     | 15/30 [18:26<18:25, 73.68s/it]"
     ]
    },
    {
     "name": "stdout",
     "output_type": "stream",
     "text": [
      "Epoch 15/30, Loss: 0.480, Validation Accuracy: 0.924\n"
     ]
    },
    {
     "name": "stderr",
     "output_type": "stream",
     "text": [
      "Training:  53%|█████▎    | 16/30 [19:39<17:10, 73.62s/it]"
     ]
    },
    {
     "name": "stdout",
     "output_type": "stream",
     "text": [
      "Epoch 16/30, Loss: 0.465, Validation Accuracy: 0.928\n"
     ]
    },
    {
     "name": "stderr",
     "output_type": "stream",
     "text": [
      "Training:  57%|█████▋    | 17/30 [20:52<15:56, 73.54s/it]"
     ]
    },
    {
     "name": "stdout",
     "output_type": "stream",
     "text": [
      "Epoch 17/30, Loss: 0.450, Validation Accuracy: 0.931\n"
     ]
    },
    {
     "name": "stderr",
     "output_type": "stream",
     "text": [
      "Training:  60%|██████    | 18/30 [22:06<14:41, 73.47s/it]"
     ]
    },
    {
     "name": "stdout",
     "output_type": "stream",
     "text": [
      "Epoch 18/30, Loss: 0.439, Validation Accuracy: 0.934\n"
     ]
    },
    {
     "name": "stderr",
     "output_type": "stream",
     "text": [
      "Training:  63%|██████▎   | 19/30 [23:19<13:27, 73.38s/it]"
     ]
    },
    {
     "name": "stdout",
     "output_type": "stream",
     "text": [
      "Epoch 19/30, Loss: 0.429, Validation Accuracy: 0.937\n"
     ]
    },
    {
     "name": "stderr",
     "output_type": "stream",
     "text": [
      "Training:  67%|██████▋   | 20/30 [24:32<12:12, 73.27s/it]"
     ]
    },
    {
     "name": "stdout",
     "output_type": "stream",
     "text": [
      "Epoch 20/30, Loss: 0.420, Validation Accuracy: 0.940\n"
     ]
    },
    {
     "name": "stderr",
     "output_type": "stream",
     "text": [
      "Training:  70%|███████   | 21/30 [25:45<10:58, 73.22s/it]"
     ]
    },
    {
     "name": "stdout",
     "output_type": "stream",
     "text": [
      "Epoch 21/30, Loss: 0.388, Validation Accuracy: 0.948\n"
     ]
    },
    {
     "name": "stderr",
     "output_type": "stream",
     "text": [
      "Training:  73%|███████▎  | 22/30 [26:58<09:45, 73.13s/it]"
     ]
    },
    {
     "name": "stdout",
     "output_type": "stream",
     "text": [
      "Epoch 22/30, Loss: 0.378, Validation Accuracy: 0.951\n"
     ]
    },
    {
     "name": "stderr",
     "output_type": "stream",
     "text": [
      "Training:  77%|███████▋  | 23/30 [28:11<08:31, 73.07s/it]"
     ]
    },
    {
     "name": "stdout",
     "output_type": "stream",
     "text": [
      "Epoch 23/30, Loss: 0.370, Validation Accuracy: 0.953\n"
     ]
    },
    {
     "name": "stderr",
     "output_type": "stream",
     "text": [
      "Training:  80%|████████  | 24/30 [29:24<07:17, 73.00s/it]"
     ]
    },
    {
     "name": "stdout",
     "output_type": "stream",
     "text": [
      "Epoch 24/30, Loss: 0.364, Validation Accuracy: 0.956\n"
     ]
    },
    {
     "name": "stderr",
     "output_type": "stream",
     "text": [
      "Training:  83%|████████▎ | 25/30 [30:37<06:05, 73.01s/it]"
     ]
    },
    {
     "name": "stdout",
     "output_type": "stream",
     "text": [
      "Epoch 25/30, Loss: 0.357, Validation Accuracy: 0.958\n"
     ]
    },
    {
     "name": "stderr",
     "output_type": "stream",
     "text": [
      "Training:  87%|████████▋ | 26/30 [31:50<04:51, 72.97s/it]"
     ]
    },
    {
     "name": "stdout",
     "output_type": "stream",
     "text": [
      "Epoch 26/30, Loss: 0.351, Validation Accuracy: 0.959\n"
     ]
    },
    {
     "name": "stderr",
     "output_type": "stream",
     "text": [
      "Training:  90%|█████████ | 27/30 [33:02<03:38, 72.97s/it]"
     ]
    },
    {
     "name": "stdout",
     "output_type": "stream",
     "text": [
      "Epoch 27/30, Loss: 0.345, Validation Accuracy: 0.962\n"
     ]
    },
    {
     "name": "stderr",
     "output_type": "stream",
     "text": [
      "Training:  93%|█████████▎| 28/30 [34:15<02:25, 72.97s/it]"
     ]
    },
    {
     "name": "stdout",
     "output_type": "stream",
     "text": [
      "Epoch 28/30, Loss: 0.339, Validation Accuracy: 0.962\n"
     ]
    },
    {
     "name": "stderr",
     "output_type": "stream",
     "text": [
      "Training:  97%|█████████▋| 29/30 [35:28<01:12, 72.97s/it]"
     ]
    },
    {
     "name": "stdout",
     "output_type": "stream",
     "text": [
      "Epoch 29/30, Loss: 0.333, Validation Accuracy: 0.965\n"
     ]
    },
    {
     "name": "stderr",
     "output_type": "stream",
     "text": [
      "                                                         "
     ]
    },
    {
     "name": "stdout",
     "output_type": "stream",
     "text": [
      "Epoch 30/30, Loss: 0.327, Validation Accuracy: 0.967\n"
     ]
    },
    {
     "name": "stderr",
     "output_type": "stream",
     "text": [
      "\r"
     ]
    }
   ],
   "source": [
    "avg_losses = []\n",
    "accuracies = []\n",
    "\n",
    "num_epochs = 30\n",
    "for epoch in tqdm.tqdm(range(num_epochs), desc=\"Training\", leave=False):\n",
    "    model.train()\n",
    "    losses = []\n",
    "    for inputs, targets in dataloader:\n",
    "        inputs = inputs.to('cuda')\n",
    "        targets = targets.to('cuda')\n",
    "        optimizer.zero_grad()\n",
    "        \n",
    "        with autocast():\n",
    "            outputs = model(inputs)\n",
    "            outputs = outputs.view(-1, 9)\n",
    "            targets = targets.view(-1) - 1\n",
    "            loss = criterion(outputs, targets)\n",
    "            \n",
    "        losses.append(loss.item())\n",
    "        scaler.scale(loss).backward()\n",
    "        scaler.step(optimizer)\n",
    "        scaler.update()\n",
    "        \n",
    "    scheduler.step()\n",
    "    avg_losses.append(sum(losses) / len(losses))\n",
    "    accuracy = validate(model, dataloader)\n",
    "    accuracies.append(accuracy)\n",
    "    print(f'Epoch {epoch+1}/{num_epochs}, Loss: {avg_losses[-1]:.3f}, Validation Accuracy: {accuracy:.3f}')\n",
    "    if earlyStopping(avg_losses, 5, 0.005, num_epochs) or accuracy > 0.99:\n",
    "        print(\"Early stopping with accuracy: \", accuracy * 100, \"%\")\n",
    "        pygame.mixer.init()\n",
    "        for i in range(3):\n",
    "            pygame.mixer.Sound(\"msg.mp3\").play()\n",
    "            time.sleep(2.5)\n",
    "        pygame.mixer.quit()\n",
    "        break"
   ]
  },
  {
   "cell_type": "code",
   "execution_count": 14,
   "metadata": {},
   "outputs": [
    {
     "data": {
      "image/png": "[encoded data removed]",
      "text/plain": [
       "<Figure size 1400x700 with 2 Axes>"
      ]
     },
     "metadata": {},
     "output_type": "display_data"
    }
   ],
   "source": [
    "import matplotlib.pyplot as plt\n",
    "\n",
    "plot_values = [avg_losses, accuracies]\n",
    "plot_labels = ['Loss', 'Accuracy']\n",
    "\n",
    "\n",
    "def plot_data(data, labels):\n",
    "    subplots, ax = plt.subplots(1, len(data), figsize=(14, 7))\n",
    "    # Loss\n",
    "    ax[0].plot(data[0], '-r')\n",
    "    ax[0].set_xlabel('Epoch')\n",
    "    ax[0].set_ylabel(labels[0])\n",
    "    ax[0].set_title(labels[0])\n",
    "    # Accuracy\n",
    "    ax[1].plot(data[1], '-b')\n",
    "    ax[1].set_xlabel('Epoch')\n",
    "    ax[1].set_ylabel(labels[1])\n",
    "    ax[1].set_title(labels[1])\n",
    "\n",
    "plot_data(plot_values, plot_labels)"
   ]
  },
  {
   "cell_type": "code",
   "execution_count": 18,
   "metadata": {},
   "outputs": [
    {
     "name": "stdout",
     "output_type": "stream",
     "text": [
      "OK\n",
      "OK\n",
      "OK\n",
      "OK\n",
      "OK\n",
      "OK\n",
      "OK\n",
      "OK\n",
      "Puzzle 8:\n",
      "Input Puzzle:\n",
      "[[0 3 5 7 2 4 8 6 1]\n",
      " [0 6 7 5 3 1 4 2 9]\n",
      " [2 4 0 6 9 8 7 5 3]\n",
      " [4 0 8 2 6 9 3 7 5]\n",
      " [7 5 6 8 4 3 0 1 2]\n",
      " [3 2 0 1 5 0 6 4 8]\n",
      " [6 7 2 3 8 5 1 9 4]\n",
      " [5 0 3 4 1 0 2 8 0]\n",
      " [0 0 4 9 7 0 5 0 6]]\n",
      "Predicted Solution:\n",
      "[[9 3 5 7 2 4 8 6 1]\n",
      " [8 6 7 5 3 1 4 2 9]\n",
      " [2 4 1 6 9 8 7 5 3]\n",
      " [4 1 8 2 6 9 3 7 5]\n",
      " [7 5 6 8 4 3 9 1 2]\n",
      " [3 2 9 1 5 7 6 4 8]\n",
      " [6 7 2 3 8 5 1 9 4]\n",
      " [5 9 3 4 1 6 2 8 7]\n",
      " [4 7 4 9 7 2 5 3 6]]\n",
      "Correct Solution:\n",
      "[[9 3 5 7 2 4 8 6 1]\n",
      " [8 6 7 5 3 1 4 2 9]\n",
      " [2 4 1 6 9 8 7 5 3]\n",
      " [4 1 8 2 6 9 3 7 5]\n",
      " [7 5 6 8 4 3 9 1 2]\n",
      " [3 2 9 1 5 7 6 4 8]\n",
      " [6 7 2 3 8 5 1 9 4]\n",
      " [5 9 3 4 1 6 2 8 7]\n",
      " [1 8 4 9 7 2 5 3 6]]\n",
      "Number of incorrect cells: 2\n",
      "------------------------------\n",
      "OK\n",
      "Puzzle 10:\n",
      "Input Puzzle:\n",
      "[[0 4 5 1 0 6 7 2 9]\n",
      " [2 8 0 5 7 9 3 6 4]\n",
      " [6 7 0 4 3 2 0 1 8]\n",
      " [0 2 0 3 4 5 0 0 6]\n",
      " [0 1 0 8 6 7 2 4 5]\n",
      " [4 5 6 0 9 1 8 7 3]\n",
      " [5 6 7 9 2 3 4 8 1]\n",
      " [8 0 2 6 1 4 9 0 7]\n",
      " [1 9 4 7 5 8 6 3 2]]\n",
      "Predicted Solution:\n",
      "[[3 4 5 1 8 6 7 2 9]\n",
      " [2 8 1 5 7 9 3 6 4]\n",
      " [6 7 9 4 3 2 5 1 8]\n",
      " [7 2 8 3 4 5 1 9 6]\n",
      " [3 1 3 8 6 7 2 4 5]\n",
      " [4 5 6 2 9 1 8 7 3]\n",
      " [5 6 7 9 2 3 4 8 1]\n",
      " [8 3 2 6 1 4 9 5 7]\n",
      " [1 9 4 7 5 8 6 3 2]]\n",
      "Correct Solution:\n",
      "[[3 4 5 1 8 6 7 2 9]\n",
      " [2 8 1 5 7 9 3 6 4]\n",
      " [6 7 9 4 3 2 5 1 8]\n",
      " [7 2 8 3 4 5 1 9 6]\n",
      " [9 1 3 8 6 7 2 4 5]\n",
      " [4 5 6 2 9 1 8 7 3]\n",
      " [5 6 7 9 2 3 4 8 1]\n",
      " [8 3 2 6 1 4 9 5 7]\n",
      " [1 9 4 7 5 8 6 3 2]]\n",
      "Number of incorrect cells: 1\n",
      "------------------------------\n",
      "OK\n",
      "OK\n",
      "OK\n",
      "OK\n",
      "OK\n",
      "OK\n",
      "OK\n",
      "Puzzle 18:\n",
      "Input Puzzle:\n",
      "[[6 0 5 0 7 9 4 0 0]\n",
      " [0 8 2 0 1 4 3 0 5]\n",
      " [4 9 1 5 8 3 2 7 6]\n",
      " [8 4 6 0 5 1 0 2 3]\n",
      " [2 1 0 3 4 8 6 5 7]\n",
      " [5 7 3 9 6 2 8 0 4]\n",
      " [3 5 7 8 9 6 0 4 2]\n",
      " [9 2 4 1 3 5 7 6 0]\n",
      " [1 6 8 4 2 7 5 3 0]]\n",
      "Predicted Solution:\n",
      "[[6 3 5 2 7 9 4 1 5]\n",
      " [7 8 2 6 1 4 3 9 5]\n",
      " [4 9 1 5 8 3 2 7 6]\n",
      " [8 4 6 7 5 1 9 2 3]\n",
      " [2 1 9 3 4 8 6 5 7]\n",
      " [5 7 3 9 6 2 8 1 4]\n",
      " [3 5 7 8 9 6 1 4 2]\n",
      " [9 2 4 1 3 5 7 6 8]\n",
      " [1 6 8 4 2 7 5 3 9]]\n",
      "Correct Solution:\n",
      "[[6 3 5 2 7 9 4 8 1]\n",
      " [7 8 2 6 1 4 3 9 5]\n",
      " [4 9 1 5 8 3 2 7 6]\n",
      " [8 4 6 7 5 1 9 2 3]\n",
      " [2 1 9 3 4 8 6 5 7]\n",
      " [5 7 3 9 6 2 8 1 4]\n",
      " [3 5 7 8 9 6 1 4 2]\n",
      " [9 2 4 1 3 5 7 6 8]\n",
      " [1 6 8 4 2 7 5 3 9]]\n",
      "Number of incorrect cells: 2\n",
      "------------------------------\n",
      "OK\n",
      "3\n"
     ]
    }
   ],
   "source": [
    "# Test\n",
    "model.eval()\n",
    "count = 0\n",
    "\n",
    "with torch.no_grad():\n",
    "    for i, (inputs, targets) in enumerate(test_dataloader):\n",
    "        inputs = inputs.to('cuda')\n",
    "        targets = targets.to('cuda')\n",
    "        outputs = model(inputs)\n",
    "        _, predicted = torch.max(outputs, 3)\n",
    "        predicted = predicted + 1\n",
    "        for j in range(inputs.size(0)):\n",
    "            puzzle = inputs[j].cpu().numpy().reshape(9, 9).astype(int)\n",
    "            solution = targets[j].cpu().numpy().reshape(9, 9).astype(int)\n",
    "            prediction = predicted[j].cpu().numpy().reshape(9, 9).astype(int)\n",
    "            incorrect = (prediction != solution)\n",
    "            num_incorrect = np.sum(incorrect)\n",
    "            if num_incorrect > 0:\n",
    "                count += 1\n",
    "                print(f'Puzzle {j + i * inputs.size(0)}:')\n",
    "                print('Input Puzzle:')\n",
    "                print(puzzle)\n",
    "                print('Predicted Solution:')\n",
    "                print(prediction)\n",
    "                print('Correct Solution:')\n",
    "                print(solution)\n",
    "                print(f'Number of incorrect cells: {num_incorrect}')\n",
    "                print('-' * 30)\n",
    "            else:\n",
    "                print(\"OK\")\n",
    "        # Per il test prendiamo solo il primo batch\n",
    "        break\n",
    "\n",
    "print(count)"
   ]
  }
 ],
 "metadata": {
  "kernelspec": {
   "display_name": "base",
   "language": "python",
   "name": "python3"
  },
  "language_info": {
   "codemirror_mode": {
    "name": "ipython",
    "version": 3
   },
   "file_extension": ".py",
   "mimetype": "text/x-python",
   "name": "python",
   "nbconvert_exporter": "python",
   "pygments_lexer": "ipython3",
   "version": "3.11.7"
  }
 },
 "nbformat": 4,
 "nbformat_minor": 2
}
